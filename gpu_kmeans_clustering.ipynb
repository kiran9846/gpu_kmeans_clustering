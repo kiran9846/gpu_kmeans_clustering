{
  "nbformat": 4,
  "nbformat_minor": 0,
  "metadata": {
    "colab": {
      "provenance": [],
      "gpuType": "T4",
      "authorship_tag": "ABX9TyMGfAGvJMAqk2U7WApXFWK0",
      "include_colab_link": true
    },
    "kernelspec": {
      "name": "python3",
      "display_name": "Python 3"
    },
    "language_info": {
      "name": "python"
    },
    "accelerator": "GPU"
  },
  "cells": [
    {
      "cell_type": "markdown",
      "metadata": {
        "id": "view-in-github",
        "colab_type": "text"
      },
      "source": [
        "<a href=\"https://colab.research.google.com/github/kiran9846/gpu_kmeans_clustering/blob/main/gpu_kmeans_clustering.ipynb\" target=\"_parent\"><img src=\"https://colab.research.google.com/assets/colab-badge.svg\" alt=\"Open In Colab\"/></a>"
      ]
    },
    {
      "cell_type": "code",
      "source": [
        "!git clone https://github.com/kiran9846/gpu_kmeans_clustering.git"
      ],
      "metadata": {
        "colab": {
          "base_uri": "https://localhost:8080/"
        },
        "id": "TaSZEOB5Y3vT",
        "outputId": "009b8238-862d-4d11-ea52-6c9d8b8e0c10"
      },
      "execution_count": null,
      "outputs": [
        {
          "output_type": "stream",
          "name": "stdout",
          "text": [
            "Cloning into 'gpu_kmeans_clustering'...\n",
            "remote: Enumerating objects: 6, done.\u001b[K\n",
            "remote: Counting objects: 100% (6/6), done.\u001b[K\n",
            "remote: Compressing objects: 100% (4/4), done.\u001b[K\n",
            "remote: Total 6 (delta 0), reused 0 (delta 0), pack-reused 0\u001b[K\n",
            "Receiving objects: 100% (6/6), 34.72 KiB | 17.36 MiB/s, done.\n"
          ]
        }
      ]
    },
    {
      "cell_type": "code",
      "source": [
        "!cd gpu_kmeans_clustering/"
      ],
      "metadata": {
        "id": "xeq_gcAZY80q"
      },
      "execution_count": null,
      "outputs": []
    },
    {
      "cell_type": "code",
      "source": [
        "!ls"
      ],
      "metadata": {
        "colab": {
          "base_uri": "https://localhost:8080/"
        },
        "id": "xMi0BaKEZA5B",
        "outputId": "54309e05-b925-4683-edd0-773d26a38a61"
      },
      "execution_count": null,
      "outputs": [
        {
          "output_type": "stream",
          "name": "stdout",
          "text": [
            "gpu_kmeans_clustering  sample_data\n"
          ]
        }
      ]
    },
    {
      "cell_type": "code",
      "source": [
        "!ls gpu_kmeans_clustering/"
      ],
      "metadata": {
        "colab": {
          "base_uri": "https://localhost:8080/"
        },
        "id": "GBKxkxAxZJlO",
        "outputId": "0ea2dee8-7ac7-4162-e356-b03e498dad2f"
      },
      "execution_count": null,
      "outputs": [
        {
          "output_type": "stream",
          "name": "stdout",
          "text": [
            "data-2.txt  README.md\n"
          ]
        }
      ]
    },
    {
      "cell_type": "code",
      "source": [
        "%cd gpu_kmeans_clustering/"
      ],
      "metadata": {
        "colab": {
          "base_uri": "https://localhost:8080/"
        },
        "id": "QatUZAeXZOC7",
        "outputId": "dff6dcb6-a29b-429b-ad19-a65fc1cc29be"
      },
      "execution_count": null,
      "outputs": [
        {
          "output_type": "stream",
          "name": "stdout",
          "text": [
            "/content/gpu_kmeans_clustering\n"
          ]
        }
      ]
    },
    {
      "cell_type": "code",
      "source": [
        "%ls"
      ],
      "metadata": {
        "colab": {
          "base_uri": "https://localhost:8080/"
        },
        "id": "d9IOE1mKZVmz",
        "outputId": "ab0c002e-b2c6-46bd-cae6-6f2c7fb152a1"
      },
      "execution_count": null,
      "outputs": [
        {
          "output_type": "stream",
          "name": "stdout",
          "text": [
            "data-2.txt  README.md\n"
          ]
        }
      ]
    },
    {
      "cell_type": "code",
      "source": [
        "%%writefile vec.h\n",
        "#ifndef VEC_H\n",
        "#define VEC_H\n",
        "\n",
        "#include <stdint.h>\n",
        "#ifdef __cplusplus\n",
        "extern \"C\" {\n",
        "#endif\n",
        "\n",
        "//__host__ __device__ void vec_zero(double v[], int dim);\n",
        "__host__ int vec_read_stdin(double v[], int dim);\n",
        "__host__ __device__ void vec_add(double u[], double v[], double w[], int dim);\n",
        "__host__ __device__ void vec_scalar_mult(double v[], double c, double w[], int dim);\n",
        "__host__ void vec_print(double v[], char* format, int dim);\n",
        "__host__ __device__ double vec_norm_sq(double v[], int dim);\n",
        "\n",
        "__host__ __device__ double vec_dist_sq(double *a, double *b, uint64_t dim);\n",
        "\n",
        "__host__ __device__ void vec_copy(double *dest, double *src, uint64_t dim);\n",
        "\n",
        "#ifdef __cplusplus\n",
        "}\n",
        "#endif\n",
        "\n",
        "#endif\n"
      ],
      "metadata": {
        "colab": {
          "base_uri": "https://localhost:8080/"
        },
        "id": "zIOz5-9Au9Oq",
        "outputId": "6204cb13-dd85-4a00-c329-2d995b69c94b"
      },
      "execution_count": null,
      "outputs": [
        {
          "output_type": "stream",
          "name": "stdout",
          "text": [
            "Writing vec.h\n"
          ]
        }
      ]
    },
    {
      "cell_type": "code",
      "source": [
        "%%writefile vec.cu\n",
        "#include <stdio.h>\n",
        "#include <stdint.h>\n",
        "#include <cuda.h>\n",
        "#include <float.h>\n",
        "#include \"vec.h\"\n",
        "\n",
        "\n",
        "// v = 0\n",
        "__host__ __device__ void vec_zero (double v[], int dim) {\n",
        "    for (int i=0; i<dim; i++) {\n",
        "        v[i] = 0;\n",
        "    }\n",
        "}\n",
        "\n",
        "// read a vector from stdin\n",
        "// returns the number of elements read in\n",
        "__host__ int vec_read_stdin (double v[], int dim) {\n",
        "    for (int i=0; i<dim; i++) {\n",
        "        if (scanf(\"%lf\", &(v[i])) != 1) { // could also use v+i\n",
        "            return i;\n",
        "        }\n",
        "    }\n",
        "    return dim;\n",
        "}\n",
        "\n",
        "// w = u + v\n",
        "__host__ __device__ void vec_add (double u[], double v[], double w[], int dim) {\n",
        "    for (int i=0; i<dim; i++) {\n",
        "        w[i] = u[i] + v[i];\n",
        "    }\n",
        "}\n",
        "\n",
        "// w = cv\n",
        "__host__ __device__ void vec_scalar_mult (double v[], double c, double w[], int dim) {\n",
        "    for (int i=0; i<dim; i++) {\n",
        "        w[i] = c * v[i];\n",
        "    }\n",
        "}\n",
        "\n",
        "// print a vector using the given format specifier\n",
        "__host__ void vec_print (double v[], char* format, int dim) {\n",
        "    for (int i=0; i<dim; i++) {\n",
        "        printf (format, v[i]);\n",
        "    }\n",
        "    printf (\"\\n\");\n",
        "}\n",
        "\n",
        "// calculate the norm squared of a vector\n",
        "__host__ __device__ double vec_norm_sq (double v[], int dim){\n",
        "    double norm_sq = 0;\n",
        "    for (int i=0; i<dim; i++) {\n",
        "        norm_sq += v[i] * v[i];\n",
        "    }\n",
        "    return norm_sq;\n",
        "}\n",
        "\n",
        "// calculate the distance squared between two vectors\n",
        "extern \"C\"{\n",
        "__host__ __device__ double vec_dist_sq(double *a, double *b, uint64_t dim){\n",
        "    double dist_sq = 0.0;\n",
        "    for (uint64_t i = 0; i < dim; i++) {\n",
        "        double diff = a[i] - b[i];\n",
        "        dist_sq += diff * diff;\n",
        "    }\n",
        "    return dist_sq;\n",
        "  }\n",
        "}\n",
        "\n",
        "// performs the copy v->data[i] = w->data[i] for all i\n",
        "__host__ __device__ void vec_copy(double *dest, double *src, uint64_t dim) {\n",
        "    for (uint64_t i = 0; i < dim; i++) {\n",
        "        dest[i] = src[i];\n",
        "    }\n",
        "}\n",
        "\n"
      ],
      "metadata": {
        "colab": {
          "base_uri": "https://localhost:8080/"
        },
        "id": "05HcMXFVvIat",
        "outputId": "e2ca6b57-e9f2-4c6d-dd47-7843417dd956"
      },
      "execution_count": null,
      "outputs": [
        {
          "output_type": "stream",
          "name": "stdout",
          "text": [
            "Writing vec.cu\n"
          ]
        }
      ]
    },
    {
      "cell_type": "code",
      "source": [
        "%%writefile gpu_kmeans_clust.h\n",
        "#ifndef GPU_KMEANS_CLUST_H\n",
        "#define GPU_KMEANS_CLUST_H\n",
        "\n",
        "#include <stdint.h>\n",
        "\n",
        "#ifdef __cplusplus\n",
        "extern \"C\" {\n",
        "#endif\n",
        "\n",
        "__global__ void calc_arg_max(double *data, uint64_t num_points, uint64_t dim, uint64_t *centers, uint64_t m, uint64_t T, uint64_t* arg_max);\n",
        "__global__ void find_cluster(double *kmeans, double *data, uint64_t num_points, uint64_t k, uint64_t dim, uint64_t *cluster);\n",
        "__global__ void calc_new_centroids(double *data, uint64_t *cluster_assignments, double *kmeans_next, uint64_t num_points, uint64_t dim, uint64_t k, uint64_t *cluster_counts);\n",
        "void calc_kmeans_next(double *data, uint64_t num_points, uint64_t dim, double *kmeans, double *kmeans_next, uint64_t k);\n",
        "void calc_kmeans(double *data, uint64_t num_points, uint64_t dim, double *kmeans, uint64_t k, uint64_t m);\n",
        "\n",
        "#ifdef __cplusplus\n",
        "}\n",
        "#endif\n",
        "\n",
        "#endif\n"
      ],
      "metadata": {
        "id": "b12LdawV7YM9",
        "colab": {
          "base_uri": "https://localhost:8080/"
        },
        "outputId": "7bacfc83-17a5-4eb1-b2b5-10990695e1c9"
      },
      "execution_count": null,
      "outputs": [
        {
          "output_type": "stream",
          "name": "stdout",
          "text": [
            "Writing gpu_kmeans_clust.h\n"
          ]
        }
      ]
    },
    {
      "cell_type": "code",
      "execution_count": null,
      "metadata": {
        "id": "RfHDnkyUrVs9",
        "colab": {
          "base_uri": "https://localhost:8080/"
        },
        "outputId": "f3a52e1f-86e3-4acb-9678-caa725f40ab2"
      },
      "outputs": [
        {
          "output_type": "stream",
          "name": "stdout",
          "text": [
            "Writing gpu_kmeans_clust.cu\n"
          ]
        }
      ],
      "source": [
        "%%writefile gpu_kmeans_clust.cu\n",
        "#include <stdio.h>\n",
        "#include <stdlib.h>\n",
        "#include <stdint.h>\n",
        "#include <inttypes.h>\n",
        "#include <cuda.h>\n",
        "#include <float.h>\n",
        "//#include \"vec.h\"\n",
        "#include \"vec.cu\"\n",
        "\n",
        "// calculate the arg max\n",
        "__global__ void calc_arg_max (double *data, uint64_t num_points, uint64_t dim, uint64_t *centers, uint64_t m, uint64_t T, uint64_t* arg_max) {\n",
        "    uint64_t thread_num = (uint64_t)blockIdx.x * blockDim.x + threadIdx.x;\n",
        "    uint64_t thread_arg_max = 0;\n",
        "    uint64_t start = thread_num * T;\n",
        "    uint64_t end = start + T;\n",
        "    if(end > num_points){\n",
        "      end = num_points;\n",
        "    }\n",
        "    double cost_sq = 0;\n",
        "    for (uint64_t i=start;i<end;i++) {\n",
        "        double min_dist_sq = DBL_MAX;\n",
        "        for (int j=0;j<m;j++) {\n",
        "            double dist_sq = vec_dist_sq(data+i*dim,data+centers[j]*dim,dim);\n",
        "            if (dist_sq < min_dist_sq) {\n",
        "                min_dist_sq = dist_sq;\n",
        "            }\n",
        "        }\n",
        "        if (min_dist_sq > cost_sq) {\n",
        "            cost_sq = min_dist_sq;\n",
        "            thread_arg_max = i;\n",
        "        }\n",
        "    }\n",
        "    atomicMax((unsigned long long int *)arg_max,(unsigned long long int)thread_arg_max);\n",
        "}\n",
        "\n",
        "// find the index of the cluster for the given point\n",
        "__global__ void find_cluster (double *kmeans, double *data, uint64_t num_points,uint64_t k, uint64_t dim, uint64_t *cluster) {\n",
        "    uint64_t thread_num = (uint64_t)blockIdx.x * blockDim.x + threadIdx.x;\n",
        "    if(thread_num < num_points){\n",
        "      uint64_t thread_cluster = 0;\n",
        "      double min_dist_sq = DBL_MAX;\n",
        "      for(int i = 0; i < k; i++){\n",
        "        double dist_sq = vec_dist_sq(data + thread_num * dim, kmeans + i * dim, dim);\n",
        "        if(dist_sq < min_dist_sq){\n",
        "            min_dist_sq = dist_sq;\n",
        "            thread_cluster = i;\n",
        "         }\n",
        "       }\n",
        "       cluster[thread_num] = thread_cluster;\n",
        "\n",
        "    }\n",
        "}\n",
        "__global__ void calc_new_centroids(double *data, uint64_t *cluster_assignments, double *kmeans_next, uint64_t num_points, uint64_t dim, uint64_t k, uint64_t *cluster_counts) {\n",
        "    extern __shared__ double shared_mem[];\n",
        "    double *shared_sums = shared_mem;\n",
        "    uint64_t *shared_counts = (uint64_t *)&shared_sums[k * dim];\n",
        "\n",
        "    uint64_t idx = blockIdx.x * blockDim.x + threadIdx.x;\n",
        "    uint64_t tid = threadIdx.x;\n",
        "\n",
        "    // Initialize shared memory\n",
        "    for (uint64_t i = tid; i < k * dim; i += blockDim.x) {\n",
        "        shared_sums[i] = 0.0;\n",
        "    }\n",
        "    for (uint64_t i = tid; i < k; i += blockDim.x) {\n",
        "        shared_counts[i] = 0;\n",
        "    }\n",
        "    __syncthreads();\n",
        "\n",
        "    // Aggregate cluster sums and counts in shared memory\n",
        "    if (idx < num_points) {\n",
        "        uint64_t cluster = cluster_assignments[idx];\n",
        "        for (uint64_t j = 0; j < dim; j++) {\n",
        "            atomicAdd((unsigned long long int *)&shared_sums[cluster * dim + j], data[idx * dim + j]);\n",
        "        }\n",
        "        atomicAdd((unsigned long long int *)&shared_counts[cluster], 1);\n",
        "    }\n",
        "    __syncthreads();\n",
        "\n",
        "    // Transfer shared memory to global memory\n",
        "    for (uint64_t i = tid; i < k * dim; i += blockDim.x) {\n",
        "        atomicAdd((unsigned long long int *)&kmeans_next[i], shared_sums[i]);\n",
        "    }\n",
        "    for (uint64_t i = tid; i < k; i += blockDim.x) {\n",
        "        atomicAdd((unsigned long long int *)&cluster_counts[i], shared_counts[i]);\n",
        "    }\n",
        "}\n",
        "\n",
        "\n",
        "// calculate the next kmeans\n",
        "void calc_kmeans_next(double *data, uint64_t num_points, uint64_t dim, double *kmeans, double *kmeans_next, uint64_t k) {\n",
        "    int blockSize = 256;  // Number of threads per block\n",
        "    int numBlocks = (num_points + blockSize - 1) / blockSize;  // Number of blocks needed to cover all data points\n",
        "\n",
        "    // Allocate memory for cluster assignments and counts on GPU\n",
        "    uint64_t *d_cluster_assignments;\n",
        "    double *d_data, *d_kmeans, *d_kmeans_next;\n",
        "    uint64_t *d_cluster_counts;\n",
        "\n",
        "    cudaMalloc(&d_cluster_assignments, num_points * sizeof(uint64_t));\n",
        "    cudaMalloc(&d_data, num_points * dim * sizeof(double));\n",
        "    cudaMalloc(&d_kmeans, k * dim * sizeof(double));\n",
        "    cudaMalloc(&d_kmeans_next, k * dim * sizeof(double));\n",
        "    cudaMalloc(&d_cluster_counts, k * sizeof(uint64_t));\n",
        "\n",
        "    cudaMemcpy(d_data, data, num_points * dim * sizeof(double), cudaMemcpyHostToDevice);\n",
        "    cudaMemcpy(d_kmeans, kmeans, k * dim * sizeof(double), cudaMemcpyHostToDevice);\n",
        "    cudaMemset(d_kmeans_next, 0, k * dim * sizeof(double));\n",
        "    cudaMemset(d_cluster_counts, 0, k * sizeof(uint64_t));\n",
        "\n",
        "    // Launch kernels\n",
        "    find_cluster<<<numBlocks, blockSize>>>(d_data, d_kmeans, num_points, dim, k, d_cluster_assignments);\n",
        "\n",
        "    size_t shared_mem_size = k * dim * sizeof(double) + k * sizeof(uint64_t);\n",
        "    calc_new_centroids<<<numBlocks, blockSize, shared_mem_size>>>(d_data, d_cluster_assignments, d_kmeans_next, num_points, dim, k, d_cluster_counts);\n",
        "\n",
        "    // Copy results back to host\n",
        "    cudaMemcpy(kmeans_next, d_kmeans_next, k * dim * sizeof(double), cudaMemcpyDeviceToHost);\n",
        "    uint64_t *cluster_counts = (uint64_t *)malloc(k * sizeof(uint64_t));\n",
        "    cudaMemcpy(cluster_counts, d_cluster_counts, k * sizeof(uint64_t), cudaMemcpyDeviceToHost);\n",
        "\n",
        "    // Normalize the centroids\n",
        "    for (uint64_t i = 0; i < k; i++) {\n",
        "        if (cluster_counts[i] == 0) {\n",
        "            printf(\"Error: Found an empty cluster. \\n\");\n",
        "            exit(EXIT_FAILURE);\n",
        "        }\n",
        "        for (uint64_t j = 0; j < dim; j++) {\n",
        "            kmeans_next[i * dim + j] /= cluster_counts[i];\n",
        "        }\n",
        "    }\n",
        "\n",
        "    // Free GPU memory\n",
        "    cudaFree(d_cluster_assignments);\n",
        "    cudaFree(d_data);\n",
        "    cudaFree(d_kmeans);\n",
        "    cudaFree(d_kmeans_next);\n",
        "    cudaFree(d_cluster_counts);\n",
        "    free(cluster_counts);\n",
        "}\n",
        "\n",
        "\n",
        "// calculate kmeans using m steps of Lloyd's algorithm\n",
        "void calc_kmeans(double *data, uint64_t num_points, uint64_t dim, double *kmeans, uint64_t k, uint64_t m) {\n",
        "    int blockSize = 256;  // Number of threads per block\n",
        "    int numBlocks = (num_points + blockSize - 1) / blockSize;  // Number of blocks needed to cover all data points\n",
        "\n",
        "    // Find k centers using the farthest first algorithm\n",
        "    uint64_t centers[k];\n",
        "    centers[0] = 0;\n",
        "    uint64_t arg_max;\n",
        "    for (uint64_t m = 1; m < k; m++) {\n",
        "        calc_arg_max<<<numBlocks, blockSize>>>(data, num_points, dim, centers, m, (num_points + blockSize - 1) / blockSize, &arg_max);\n",
        "        cudaMemcpy(&centers[m], &arg_max, sizeof(uint64_t), cudaMemcpyDeviceToHost);\n",
        "    }\n",
        "\n",
        "    // Initialize kmeans using the k centers\n",
        "    for (uint64_t i = 0; i < k; i++) {\n",
        "        vec_copy(kmeans + i * dim, data + centers[i] * dim, dim);\n",
        "    }\n",
        "\n",
        "    // Update kmeans m times\n",
        "    double *kmeans_next = (double *)malloc(k * dim * sizeof(double));\n",
        "    for (uint64_t i = 0; i < m; i++) {\n",
        "        calc_kmeans_next(data, num_points, dim, kmeans, kmeans_next, k);\n",
        "        vec_copy(kmeans, kmeans_next, k * dim);\n",
        "    }\n",
        "    free(kmeans_next);\n",
        "}\n",
        "\n",
        "\n",
        "\n",
        "\n"
      ]
    },
    {
      "cell_type": "code",
      "source": [
        "%%writefile main.cu\n",
        "#include <stdio.h>\n",
        "#include <stdlib.h>\n",
        "#include <stdint.h>\n",
        "#include <inttypes.h>\n",
        "#include <cuda.h>\n",
        "#include <float.h>\n",
        "#include \"gpu_kmeans_clust.h\"\n",
        "#include \"vec.h\"\n",
        "\n",
        "\n",
        "int main(int argc, char* argv[]) {\n",
        "    // get k and m from command line\n",
        "    if (argc < 3) {\n",
        "        printf(\"Command usage : %s %s %s\\n\", argv[0], \"k\", \"m\");\n",
        "        return 1;\n",
        "    }\n",
        "    uint64_t k = atoi(argv[1]);\n",
        "    uint64_t m = atoi(argv[2]);\n",
        "\n",
        "    // read the number of points and the dimension of each point\n",
        "    uint64_t num_points, dim;\n",
        "    if (scanf(\"%\" PRIu64 \" %\" PRIu64, &num_points, &dim) != 2) {\n",
        "        printf(\"error reading the number of points and the dimension\\n\");\n",
        "        return 1;\n",
        "    }\n",
        "\n",
        "    // dynamically allocate memory for the data array\n",
        "    double* data = (double*)malloc(num_points * dim * sizeof(double));\n",
        "\n",
        "    // Read vectors from stdin and store them in the data array\n",
        "    for (uint64_t i = 0; i < num_points; i++) {\n",
        "        if (vec_read_stdin(data + i * dim, dim) != dim) {\n",
        "            printf(\"error reading the next point from stdin\\n\");\n",
        "            return 1;\n",
        "        }\n",
        "    }\n",
        "\n",
        "    // calculate kmeans using m steps of Lloyd's algorithm\n",
        "    double *kmeans = (double *)malloc(k * dim * sizeof(double));\n",
        "    calc_kmeans(data, num_points, dim, kmeans, k, m);\n",
        "\n",
        "    // print the results\n",
        "    for (uint64_t i = 0; i < k; i++) {\n",
        "        for (uint64_t j = 0; j < dim; j++) {\n",
        "            printf(\"%.5f \", kmeans[i * dim + j]);\n",
        "        }\n",
        "        printf(\"\\n\");\n",
        "    }\n",
        "\n",
        "    // free the dynamically allocated memory\n",
        "    free(data);\n",
        "    free(kmeans);\n",
        "\n",
        "    return 0;\n",
        "}"
      ],
      "metadata": {
        "colab": {
          "base_uri": "https://localhost:8080/"
        },
        "id": "CIeewdmzgfTj",
        "outputId": "a2cb3d03-c61a-4cbc-e169-7972f2d0c899"
      },
      "execution_count": null,
      "outputs": [
        {
          "output_type": "stream",
          "name": "stdout",
          "text": [
            "Writing main.cu\n"
          ]
        }
      ]
    },
    {
      "cell_type": "code",
      "source": [
        "!nvcc -c vec.cu -o vec.o"
      ],
      "metadata": {
        "id": "3rplteZB_f94"
      },
      "execution_count": null,
      "outputs": []
    },
    {
      "cell_type": "code",
      "source": [
        "!nvcc -c gpu_kmeans_clust.cu -o gpu_kmeans_clust.o"
      ],
      "metadata": {
        "id": "pdJ3J86c_if2"
      },
      "execution_count": null,
      "outputs": []
    },
    {
      "cell_type": "code",
      "source": [
        "!nvcc -c main.cu -o main.o"
      ],
      "metadata": {
        "id": "YIXSyFMmhfPt"
      },
      "execution_count": null,
      "outputs": []
    },
    {
      "cell_type": "code",
      "source": [
        "!nvcc main.o gpu_kmeans_clust.o vec.o -o my_cuda_program"
      ],
      "metadata": {
        "colab": {
          "base_uri": "https://localhost:8080/"
        },
        "id": "ZQFmByFR_k9C",
        "outputId": "2c7c8325-ed81-444e-f027-cadeb701253f"
      },
      "execution_count": null,
      "outputs": [
        {
          "output_type": "stream",
          "name": "stdout",
          "text": [
            "/usr/bin/ld: vec.o: in function `vec_zero(double*, int)':\n",
            "tmpxft_00000481_00000000-6_vec.cudafe1.cpp:(.text+0x1a): multiple definition of `vec_zero(double*, int)'; gpu_kmeans_clust.o:tmpxft_000004a6_00000000-6_gpu_kmeans_clust.cudafe1.cpp:(.text+0x1a): first defined here\n",
            "/usr/bin/ld: vec.o: in function `vec_read_stdin':\n",
            "tmpxft_00000481_00000000-6_vec.cudafe1.cpp:(.text+0x5e): multiple definition of `vec_read_stdin'; gpu_kmeans_clust.o:tmpxft_000004a6_00000000-6_gpu_kmeans_clust.cudafe1.cpp:(.text+0x5e): first defined here\n",
            "/usr/bin/ld: vec.o: in function `vec_add':\n",
            "tmpxft_00000481_00000000-6_vec.cudafe1.cpp:(.text+0xc5): multiple definition of `vec_add'; gpu_kmeans_clust.o:tmpxft_000004a6_00000000-6_gpu_kmeans_clust.cudafe1.cpp:(.text+0xc5): first defined here\n",
            "/usr/bin/ld: vec.o: in function `vec_scalar_mult':\n",
            "tmpxft_00000481_00000000-6_vec.cudafe1.cpp:(.text+0x141): multiple definition of `vec_scalar_mult'; gpu_kmeans_clust.o:tmpxft_000004a6_00000000-6_gpu_kmeans_clust.cudafe1.cpp:(.text+0x141): first defined here\n",
            "/usr/bin/ld: vec.o: in function `vec_print':\n",
            "tmpxft_00000481_00000000-6_vec.cudafe1.cpp:(.text+0x1a7): multiple definition of `vec_print'; gpu_kmeans_clust.o:tmpxft_000004a6_00000000-6_gpu_kmeans_clust.cudafe1.cpp:(.text+0x1a7): first defined here\n",
            "/usr/bin/ld: vec.o: in function `vec_norm_sq':\n",
            "tmpxft_00000481_00000000-6_vec.cudafe1.cpp:(.text+0x20d): multiple definition of `vec_norm_sq'; gpu_kmeans_clust.o:tmpxft_000004a6_00000000-6_gpu_kmeans_clust.cudafe1.cpp:(.text+0x20d): first defined here\n",
            "/usr/bin/ld: vec.o: in function `vec_dist_sq':\n",
            "tmpxft_00000481_00000000-6_vec.cudafe1.cpp:(.text+0x28d): multiple definition of `vec_dist_sq'; gpu_kmeans_clust.o:tmpxft_000004a6_00000000-6_gpu_kmeans_clust.cudafe1.cpp:(.text+0x28d): first defined here\n",
            "/usr/bin/ld: vec.o: in function `vec_copy':\n",
            "tmpxft_00000481_00000000-6_vec.cudafe1.cpp:(.text+0x322): multiple definition of `vec_copy'; gpu_kmeans_clust.o:tmpxft_000004a6_00000000-6_gpu_kmeans_clust.cudafe1.cpp:(.text+0x322): first defined here\n",
            "/usr/bin/ld: main.o: in function `main':\n",
            "tmpxft_000004c3_00000000-6_main.cudafe1.cpp:(.text+0x1b1): undefined reference to `calc_kmeans'\n",
            "collect2: error: ld returned 1 exit status\n"
          ]
        }
      ]
    },
    {
      "cell_type": "code",
      "source": [
        "!nvcc --version"
      ],
      "metadata": {
        "colab": {
          "base_uri": "https://localhost:8080/"
        },
        "id": "0aab72jt9UAl",
        "outputId": "f056f04b-f1df-44dd-ecf7-b45764bf4831"
      },
      "execution_count": null,
      "outputs": [
        {
          "output_type": "stream",
          "name": "stdout",
          "text": [
            "nvcc: NVIDIA (R) Cuda compiler driver\n",
            "Copyright (c) 2005-2023 NVIDIA Corporation\n",
            "Built on Tue_Aug_15_22:02:13_PDT_2023\n",
            "Cuda compilation tools, release 12.2, V12.2.140\n",
            "Build cuda_12.2.r12.2/compiler.33191640_0\n"
          ]
        }
      ]
    },
    {
      "cell_type": "code",
      "source": [
        "!git pull"
      ],
      "metadata": {
        "colab": {
          "base_uri": "https://localhost:8080/"
        },
        "id": "kV1UKWvBbHRV",
        "outputId": "ed2430ab-52fd-4b81-89ca-2cfd09380360"
      },
      "execution_count": null,
      "outputs": [
        {
          "output_type": "stream",
          "name": "stdout",
          "text": [
            "Already up to date.\n"
          ]
        }
      ]
    },
    {
      "cell_type": "code",
      "source": [
        "!time ./gpu_kmeans 3 10"
      ],
      "metadata": {
        "colab": {
          "base_uri": "https://localhost:8080/"
        },
        "id": "Th-cYKniZnEr",
        "outputId": "5a8faa83-d98b-43fb-e67e-863004e55131"
      },
      "execution_count": null,
      "outputs": [
        {
          "output_type": "stream",
          "name": "stdout",
          "text": [
            "/bin/bash: line 1: ./gpu_kmeans: No such file or directory\n",
            "\n",
            "real\t0m0.001s\n",
            "user\t0m0.000s\n",
            "sys\t0m0.001s\n"
          ]
        }
      ]
    }
  ]
}